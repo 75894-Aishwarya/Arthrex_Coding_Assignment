{
  "nbformat": 4,
  "nbformat_minor": 0,
  "metadata": {
    "colab": {
      "provenance": [],
      "authorship_tag": "ABX9TyNY+ufLn9chuOyu3Rsmwmfo",
      "include_colab_link": true
    },
    "kernelspec": {
      "name": "python3",
      "display_name": "Python 3"
    },
    "language_info": {
      "name": "python"
    }
  },
  "cells": [
    {
      "cell_type": "markdown",
      "metadata": {
        "id": "view-in-github",
        "colab_type": "text"
      },
      "source": [
        "<a href=\"https://colab.research.google.com/github/75894-Aishwarya/Arthrex_coding_assignment/blob/main/arthrex_coding_assignment.ipynb\" target=\"_parent\"><img src=\"https://colab.research.google.com/assets/colab-badge.svg\" alt=\"Open In Colab\"/></a>"
      ]
    },
    {
      "cell_type": "markdown",
      "source": [
        "### Arthrex Problem statement\n",
        "\n",
        "Let us assume that Arthrex wants to hire an intern.\n",
        "The recruiter from Arthrex starts gathering a list of interns from its database.\n",
        "In order to keep the hiring pipeline healthy, every time a recruiter calls up a candidate\n",
        "to schedule an interview, he also asks the candidate to provide a list of his\n",
        "classmates.\n",
        "\n",
        "Write a program in a language of your choice to list all the candidates that could be\n",
        "contacted by the above method, until a candidate is hired or the complete list of\n",
        "candidates along with their classmates is exhausted.\n",
        "Note: No candidate should be contacted more than"
      ],
      "metadata": {
        "id": "ln_NxL_Yq-Oo"
      }
    },
    {
      "cell_type": "code",
      "execution_count": 1,
      "metadata": {
        "colab": {
          "base_uri": "https://localhost:8080/"
        },
        "id": "gdxwRLB8mvCs",
        "outputId": "e02c2445-b565-4647-e872-27fc4a2b380a"
      },
      "outputs": [
        {
          "output_type": "stream",
          "name": "stdout",
          "text": [
            "Enter person's name to select for the job (letters from A-Z): m\n",
            "M, K, L, N, A, B, C, J, V, W, X, Y, Z\n"
          ]
        }
      ],
      "source": [
        "data = {\n",
        "    'A': ['B', 'C', 'J'],\n",
        "    'D': ['E', 'F', 'G'],\n",
        "    'H': ['I', 'K', 'V'],\n",
        "    'J': ['V'],\n",
        "    'K': ['L', 'M', 'N', 'A'],\n",
        "    'O': ['P', 'V', 'U'],\n",
        "    'Q': ['S', 'T', 'D'],\n",
        "    'U': ['H', 'J'],\n",
        "    'V': ['W', 'X', 'Y', 'Z']\n",
        "}\n",
        "\n",
        "def get_contacts(person, contact=[]):\n",
        "    if person not in contact:     # Check if the person is already in the contact list to avoid duplicates\n",
        "        contact.append(person)\n",
        "        if person in data:\n",
        "            for friend in data[person]:\n",
        "                get_contacts(friend, contact)\n",
        "        else:\n",
        "            for key, value in data.items():\n",
        "                if person in value:\n",
        "                    get_contacts(key, contact)\n",
        "\n",
        "    return contact\n",
        "\n",
        "input_person = input(\"Enter person's name to select for the job (letters from A-Z): \").upper()\n",
        "\n",
        "contacted_candidates = get_contacts(input_person)\n",
        "\n",
        "print(', '.join(contacted_candidates))"
      ]
    }
  ]
}